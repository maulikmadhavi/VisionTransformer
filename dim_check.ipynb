{
 "cells": [
  {
   "cell_type": "code",
   "execution_count": 1,
   "metadata": {},
   "outputs": [],
   "source": [
    "heads = 12\n",
    "dim = 768\n",
    "n_tokens = 257\n",
    "head_dim = dim // heads  # Dimension of each head. 64"
   ]
  },
  {
   "cell_type": "code",
   "execution_count": 2,
   "metadata": {},
   "outputs": [],
   "source": [
    "import torch\n",
    "import einops"
   ]
  },
  {
   "cell_type": "code",
   "execution_count": 3,
   "metadata": {},
   "outputs": [],
   "source": [
    "x = torch.randn(10, n_tokens, 3 * dim)  \n",
    "# (n_samples, n_tokens, dim)   = (10, 257, 3*768) = (10, 257, 3072)"
   ]
  },
  {
   "cell_type": "code",
   "execution_count": 4,
   "metadata": {},
   "outputs": [
    {
     "name": "stdout",
     "output_type": "stream",
     "text": [
      "torch.Size([10, 257, 3, 12, 64])\n",
      "torch.Size([3, 10, 12, 257, 64])\n",
      "torch.Size([10, 12, 257, 64]) torch.Size([10, 12, 64, 257])\n",
      "torch.Size([10, 12, 257, 257])\n",
      "torch.Size([10, 12, 257, 257]) torch.Size([10, 12, 257, 64])\n",
      "torch.Size([10, 257, 12, 64])\n",
      "torch.Size([10, 257, 768])\n",
      "torch.Size([10, 257, 12, 64])\n",
      "torch.Size([10, 257, 768]) torch.Size([10, 257, 768])\n"
     ]
    },
    {
     "data": {
      "text/plain": [
       "tensor([[[True, True, True,  ..., True, True, True],\n",
       "         [True, True, True,  ..., True, True, True],\n",
       "         [True, True, True,  ..., True, True, True],\n",
       "         ...,\n",
       "         [True, True, True,  ..., True, True, True],\n",
       "         [True, True, True,  ..., True, True, True],\n",
       "         [True, True, True,  ..., True, True, True]],\n",
       "\n",
       "        [[True, True, True,  ..., True, True, True],\n",
       "         [True, True, True,  ..., True, True, True],\n",
       "         [True, True, True,  ..., True, True, True],\n",
       "         ...,\n",
       "         [True, True, True,  ..., True, True, True],\n",
       "         [True, True, True,  ..., True, True, True],\n",
       "         [True, True, True,  ..., True, True, True]],\n",
       "\n",
       "        [[True, True, True,  ..., True, True, True],\n",
       "         [True, True, True,  ..., True, True, True],\n",
       "         [True, True, True,  ..., True, True, True],\n",
       "         ...,\n",
       "         [True, True, True,  ..., True, True, True],\n",
       "         [True, True, True,  ..., True, True, True],\n",
       "         [True, True, True,  ..., True, True, True]],\n",
       "\n",
       "        ...,\n",
       "\n",
       "        [[True, True, True,  ..., True, True, True],\n",
       "         [True, True, True,  ..., True, True, True],\n",
       "         [True, True, True,  ..., True, True, True],\n",
       "         ...,\n",
       "         [True, True, True,  ..., True, True, True],\n",
       "         [True, True, True,  ..., True, True, True],\n",
       "         [True, True, True,  ..., True, True, True]],\n",
       "\n",
       "        [[True, True, True,  ..., True, True, True],\n",
       "         [True, True, True,  ..., True, True, True],\n",
       "         [True, True, True,  ..., True, True, True],\n",
       "         ...,\n",
       "         [True, True, True,  ..., True, True, True],\n",
       "         [True, True, True,  ..., True, True, True],\n",
       "         [True, True, True,  ..., True, True, True]],\n",
       "\n",
       "        [[True, True, True,  ..., True, True, True],\n",
       "         [True, True, True,  ..., True, True, True],\n",
       "         [True, True, True,  ..., True, True, True],\n",
       "         ...,\n",
       "         [True, True, True,  ..., True, True, True],\n",
       "         [True, True, True,  ..., True, True, True],\n",
       "         [True, True, True,  ..., True, True, True]]])"
      ]
     },
     "execution_count": 4,
     "metadata": {},
     "output_type": "execute_result"
    }
   ],
   "source": [
    "qkv= x.reshape(10, n_tokens, 3, heads, head_dim)\n",
    "# (n_samples, n_tokens, 3, heads, head_dim) = (10, 257, 3, 12, 64)\n",
    "print(qkv.shape)\n",
    "qkv = qkv.permute(\n",
    "    2, 0, 3, 1, 4)  # (3, n_samples, heads, n_tokens, head_dim)\n",
    "print(qkv.shape)\n",
    "q, k, v = qkv[0], qkv[1], qkv[2]\n",
    "\n",
    "k_t = k.transpose(-2, -1)\n",
    "print(k.shape, k_t.shape,)\n",
    "dp = torch.matmul(q, k_t) / head_dim**0.5\n",
    "print(dp.shape)\n",
    "attn = torch.softmax(dp, dim = -1)\n",
    "print(attn.shape, v.shape)\n",
    "\n",
    "# weighted_avg = attn @ v\n",
    "weighted_avg =  torch.einsum('bhqk,bhke->bqhe', [attn, v])\n",
    "print(weighted_avg.shape)\n",
    "weighted_avg = einops.rearrange(weighted_avg, 'b q h e -> b q (h e)')\n",
    "print(weighted_avg.shape)\n",
    "\n",
    "weighted_avg1 =  torch.einsum('bhqk,bhke->bqhe', [attn, v])\n",
    "print(weighted_avg1.shape)\n",
    "# wa = torch.einsum('b h q k, b h k e -> b q h e', [attn, v])\n",
    "wa = einops.rearrange(weighted_avg1, 'b q h e -> b q (h e)')\n",
    "print(weighted_avg.shape, wa.shape)\n",
    "wa == weighted_avg"
   ]
  },
  {
   "cell_type": "code",
   "execution_count": 5,
   "metadata": {},
   "outputs": [
    {
     "data": {
      "text/plain": [
       "torch.Size([10, 12, 257, 64])"
      ]
     },
     "execution_count": 5,
     "metadata": {},
     "output_type": "execute_result"
    }
   ],
   "source": [
    "z = einops.rearrange(x, \n",
    "                       'n_samples n_tokens (qkv_cnt heads head_dim) -> qkv_cnt n_samples heads n_tokens head_dim', \n",
    "                       qkv_cnt=3,\n",
    "                       heads=heads,\n",
    "                       head_dim=head_dim\n",
    ")\n",
    "Q, K, V = z\n",
    "Q.shape"
   ]
  },
  {
   "cell_type": "code",
   "execution_count": 6,
   "metadata": {},
   "outputs": [],
   "source": [
    "Q, K, V = z\n",
    "DP = torch.einsum('bhqe,bhke->bhqk', [Q, K]) / head_dim**0.5\n",
    "ATTN = torch.softmax(DP, dim = -1)\n"
   ]
  },
  {
   "cell_type": "code",
   "execution_count": 10,
   "metadata": {},
   "outputs": [
    {
     "data": {
      "text/plain": [
       "tensor([[[ 0.2748,  1.6191,  0.3342,  ...,  0.6423,  0.1509, -0.8868]],\n",
       "\n",
       "        [[ 0.2748,  1.6191,  0.3342,  ...,  0.6423,  0.1509, -0.8868]],\n",
       "\n",
       "        [[ 0.2748,  1.6191,  0.3342,  ...,  0.6423,  0.1509, -0.8868]],\n",
       "\n",
       "        [[ 0.2748,  1.6191,  0.3342,  ...,  0.6423,  0.1509, -0.8868]]])"
      ]
     },
     "execution_count": 10,
     "metadata": {},
     "output_type": "execute_result"
    }
   ],
   "source": [
    "x = torch.randn(1, 1, 768)\n",
    "einops.repeat(x, ' h w e -> n h w e', n=4).squeeze(1)"
   ]
  },
  {
   "cell_type": "code",
   "execution_count": 11,
   "metadata": {},
   "outputs": [
    {
     "data": {
      "text/plain": [
       "(array([125., 131.,  99.,  81.,  67.,  63.,  58.,  52.,  36.,  49.,  22.,\n",
       "         29.,  30.,  16.,  20.,  18.,  16.,   6.,  15.,   7.,  10.,   9.,\n",
       "          4.,   2.,   7.,   6.,   6.,   1.,   1.,   0.,   2.,   2.,   1.,\n",
       "          2.,   2.,   1.,   2.,   0.,   0.,   0.,   0.,   0.,   0.,   0.,\n",
       "          0.,   0.,   0.,   0.,   0.,   0.,   0.,   0.,   0.,   0.,   0.,\n",
       "          0.,   0.,   1.,   0.,   0.,   0.,   0.,   0.,   0.,   0.,   0.,\n",
       "          0.,   0.,   0.,   0.,   0.,   0.,   0.,   0.,   0.,   0.,   0.,\n",
       "          0.,   0.,   0.,   0.,   0.,   0.,   0.,   0.,   0.,   0.,   0.,\n",
       "          0.,   0.,   0.,   0.,   0.,   0.,   0.,   0.,   0.,   0.,   0.,\n",
       "          1.]),\n",
       " array([1.18612032e-03, 1.39803693e-01, 2.78421283e-01, 4.17038858e-01,\n",
       "        5.55656433e-01, 6.94274008e-01, 8.32891583e-01, 9.71509159e-01,\n",
       "        1.11012673e+00, 1.24874425e+00, 1.38736188e+00, 1.52597940e+00,\n",
       "        1.66459703e+00, 1.80321455e+00, 1.94183218e+00, 2.08044982e+00,\n",
       "        2.21906734e+00, 2.35768485e+00, 2.49630237e+00, 2.63492012e+00,\n",
       "        2.77353764e+00, 2.91215515e+00, 3.05077267e+00, 3.18939042e+00,\n",
       "        3.32800794e+00, 3.46662545e+00, 3.60524297e+00, 3.74386072e+00,\n",
       "        3.88247824e+00, 4.02109575e+00, 4.15971327e+00, 4.29833078e+00,\n",
       "        4.43694830e+00, 4.57556629e+00, 4.71418381e+00, 4.85280132e+00,\n",
       "        4.99141884e+00, 5.13003635e+00, 5.26865387e+00, 5.40727139e+00,\n",
       "        5.54588890e+00, 5.68450689e+00, 5.82312441e+00, 5.96174192e+00,\n",
       "        6.10035944e+00, 6.23897696e+00, 6.37759447e+00, 6.51621199e+00,\n",
       "        6.65482950e+00, 6.79344749e+00, 6.93206501e+00, 7.07068253e+00,\n",
       "        7.20930004e+00, 7.34791756e+00, 7.48653507e+00, 7.62515259e+00,\n",
       "        7.76377010e+00, 7.90238810e+00, 8.04100513e+00, 8.17962265e+00,\n",
       "        8.31824017e+00, 8.45685863e+00, 8.59547615e+00, 8.73409367e+00,\n",
       "        8.87271118e+00, 9.01132870e+00, 9.14994621e+00, 9.28856373e+00,\n",
       "        9.42718124e+00, 9.56579876e+00, 9.70441628e+00, 9.84303379e+00,\n",
       "        9.98165131e+00, 1.01202688e+01, 1.02588863e+01, 1.03975039e+01,\n",
       "        1.05361214e+01, 1.06747398e+01, 1.08133574e+01, 1.09519749e+01,\n",
       "        1.10905924e+01, 1.12292099e+01, 1.13678274e+01, 1.15064449e+01,\n",
       "        1.16450624e+01, 1.17836800e+01, 1.19222975e+01, 1.20609150e+01,\n",
       "        1.21995325e+01, 1.23381500e+01, 1.24767675e+01, 1.26153851e+01,\n",
       "        1.27540026e+01, 1.28926210e+01, 1.30312386e+01, 1.31698561e+01,\n",
       "        1.33084736e+01, 1.34470911e+01, 1.35857086e+01, 1.37243261e+01,\n",
       "        1.38629436e+01], dtype=float32),\n",
       " <BarContainer object of 100 artists>)"
      ]
     },
     "execution_count": 11,
     "metadata": {},
     "output_type": "execute_result"
    },
    {
     "data": {
      "image/png": "[encoded data removed]",
      "text/plain": [
       "<Figure size 432x288 with 1 Axes>"
      ]
     },
     "metadata": {
      "needs_background": "light"
     },
     "output_type": "display_data"
    }
   ],
   "source": [
    "import torch\n",
    "import matplotlib.pyplot as plt\n",
    "eps = 1e-20\n",
    "x = torch.rand(1000)\n",
    "x1 = -torch.log(x+eps)\n",
    "\n",
    "plt.hist(x1.detach().numpy(), bins=100)\n"
   ]
  },
  {
   "cell_type": "code",
   "execution_count": 12,
   "metadata": {},
   "outputs": [
    {
     "data": {
      "text/plain": [
       "(array([ 1.,  0.,  0.,  0.,  0.,  1.,  0.,  0.,  0.,  0.,  3.,  5.,  4.,\n",
       "         2., 15.,  7., 18., 20., 13., 24., 30., 21., 34., 28., 30., 35.,\n",
       "        34., 40., 41., 27., 37., 28., 30., 27., 32., 24., 22., 23., 28.,\n",
       "        27., 21., 16., 15., 24., 22., 19., 17., 20., 10.,  9., 10.,  9.,\n",
       "         8., 11.,  8.,  7.,  5.,  3.,  4.,  2.,  4.,  5.,  4.,  0.,  1.,\n",
       "         5.,  2.,  2.,  3.,  3.,  3.,  1.,  0.,  4.,  1.,  0.,  2.,  0.,\n",
       "         0.,  1.,  2.,  2.,  0.,  0.,  1.,  1.,  0.,  1.,  0.,  0.,  0.,\n",
       "         0.,  0.,  0.,  0.,  0.,  0.,  0.,  0.,  1.]),\n",
       " array([-2.6292193e+00, -2.5355563e+00, -2.4418936e+00, -2.3482306e+00,\n",
       "        -2.2545679e+00, -2.1609049e+00, -2.0672421e+00, -1.9735792e+00,\n",
       "        -1.8799163e+00, -1.7862535e+00, -1.6925906e+00, -1.5989277e+00,\n",
       "        -1.5052649e+00, -1.4116020e+00, -1.3179392e+00, -1.2242763e+00,\n",
       "        -1.1306133e+00, -1.0369505e+00, -9.4328761e-01, -8.4962475e-01,\n",
       "        -7.5596189e-01, -6.6229904e-01, -5.6863618e-01, -4.7497329e-01,\n",
       "        -3.8131040e-01, -2.8764755e-01, -1.9398467e-01, -1.0032181e-01,\n",
       "        -6.6589355e-03,  8.7003931e-02,  1.8066680e-01,  2.7432966e-01,\n",
       "         3.6799255e-01,  4.6165541e-01,  5.5531830e-01,  6.4898115e-01,\n",
       "         7.4264401e-01,  8.3630687e-01,  9.2996979e-01,  1.0236326e+00,\n",
       "         1.1172955e+00,  1.2109584e+00,  1.3046212e+00,  1.3982841e+00,\n",
       "         1.4919469e+00,  1.5856099e+00,  1.6792728e+00,  1.7729356e+00,\n",
       "         1.8665985e+00,  1.9602613e+00,  2.0539241e+00,  2.1475871e+00,\n",
       "         2.2412500e+00,  2.3349128e+00,  2.4285758e+00,  2.5222385e+00,\n",
       "         2.6159015e+00,  2.7095642e+00,  2.8032272e+00,  2.8968899e+00,\n",
       "         2.9905529e+00,  3.0842159e+00,  3.1778786e+00,  3.2715416e+00,\n",
       "         3.3652043e+00,  3.4588673e+00,  3.5525301e+00,  3.6461930e+00,\n",
       "         3.7398558e+00,  3.8335187e+00,  3.9271817e+00,  4.0208445e+00,\n",
       "         4.1145072e+00,  4.2081704e+00,  4.3018332e+00,  4.3954959e+00,\n",
       "         4.4891586e+00,  4.5828218e+00,  4.6764846e+00,  4.7701473e+00,\n",
       "         4.8638105e+00,  4.9574733e+00,  5.0511360e+00,  5.1447988e+00,\n",
       "         5.2384620e+00,  5.3321247e+00,  5.4257874e+00,  5.5194502e+00,\n",
       "         5.6131134e+00,  5.7067761e+00,  5.8004389e+00,  5.8941021e+00,\n",
       "         5.9877648e+00,  6.0814276e+00,  6.1750903e+00,  6.2687535e+00,\n",
       "         6.3624163e+00,  6.4560790e+00,  6.5497417e+00,  6.6434050e+00,\n",
       "         6.7370677e+00], dtype=float32),\n",
       " <BarContainer object of 100 artists>)"
      ]
     },
     "execution_count": 12,
     "metadata": {},
     "output_type": "execute_result"
    },
    {
     "data": {
      "image/png": "[encoded data removed]",
      "text/plain": [
       "<Figure size 432x288 with 1 Axes>"
      ]
     },
     "metadata": {
      "needs_background": "light"
     },
     "output_type": "display_data"
    }
   ],
   "source": [
    "x2 = -torch.log(x1+eps)\n",
    "\n",
    "plt.hist(x2.detach().numpy(), bins=100)"
   ]
  }
 ],
 "metadata": {
  "kernelspec": {
   "display_name": "Python 3.8.12 ('ml')",
   "language": "python",
   "name": "python3"
  },
  "language_info": {
   "codemirror_mode": {
    "name": "ipython",
    "version": 3
   },
   "file_extension": ".py",
   "mimetype": "text/x-python",
   "name": "python",
   "nbconvert_exporter": "python",
   "pygments_lexer": "ipython3",
   "version": "3.8.12"
  },
  "orig_nbformat": 4,
  "vscode": {
   "interpreter": {
    "hash": "8342465fb45126756159db0cb02d9526161e266040855cbe048f677cde1ad632"
   }
  }
 },
 "nbformat": 4,
 "nbformat_minor": 2
}
